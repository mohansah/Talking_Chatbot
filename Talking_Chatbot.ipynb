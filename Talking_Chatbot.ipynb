{
 "cells": [
  {
   "cell_type": "markdown",
   "metadata": {},
   "source": [
    "# Talking Chatbot"
   ]
  },
  {
   "cell_type": "markdown",
   "metadata": {},
   "source": [
    "### What is a chatbot?\n",
    "\n",
    "A chatbot is an artificial intelligence (AI) software that can simulate a conversation (or a chat) with a user in natural language through messaging applications, websites, mobile apps or through the telephone."
   ]
  },
  {
   "cell_type": "markdown",
   "metadata": {},
   "source": [
    "### What is a Talking chatbot?\n",
    "It is similar to the chatbot but it takes voice as input and also gives voice as output."
   ]
  },
  {
   "cell_type": "markdown",
   "metadata": {},
   "source": [
    "### Logic used to build the Talking Chatbot"
   ]
  },
  {
   "cell_type": "markdown",
   "metadata": {},
   "source": [
    "1. Converting the speech( user voice ) into text\n",
    "2. Feed the text to chatbot which will give a reply to that text\n",
    "3. Converting the reply into speech( chatbot voice )"
   ]
  },
  {
   "cell_type": "markdown",
   "metadata": {},
   "source": [
    "### 1. Converting the speech into text"
   ]
  },
  {
   "cell_type": "code",
   "execution_count": 1,
   "metadata": {},
   "outputs": [
    {
     "name": "stdout",
     "output_type": "stream",
     "text": [
      "Speak: \n",
      "You said: hello\n"
     ]
    }
   ],
   "source": [
    "import speech_recognition as sr  \n",
    "\n",
    "#Initialize the recognizer                                                                       \n",
    "r = sr.Recognizer()\n",
    "\n",
    "#use the microphone as source for input\n",
    "with sr.Microphone() as source:                                                                       \n",
    "    print(\"Speak: \")\n",
    "    #listens for the user's input \n",
    "    audio = r.listen(source)   \n",
    "\n",
    "try:\n",
    "    #Recognize the user's input\n",
    "    text=r.recognize_google(audio)\n",
    "    print(\"You said: \" + text)\n",
    "except:\n",
    "    #error occurs when could not understand what was said\n",
    "    print(\"Could not understand audio\")"
   ]
  },
  {
   "cell_type": "markdown",
   "metadata": {},
   "source": [
    "### 2. Feed the text to chatbot which will give a reply to that text"
   ]
  },
  {
   "cell_type": "markdown",
   "metadata": {},
   "source": [
    "ChatterBot is a Python library that makes it easy to generate automated responses to a user’s input. ChatterBot uses a selection of machine learning algorithms to produce different types of responses. This makes it easy for developers to create chat bots and automate conversations with users."
   ]
  },
  {
   "cell_type": "markdown",
   "metadata": {},
   "source": [
    "ChatterBot comes with a corpus data and utility module that makes it easy to quickly train your bot to communicate."
   ]
  },
  {
   "cell_type": "markdown",
   "metadata": {},
   "source": [
    "ChatterBot includes tools that help simplify the process of training a chat bot instance. ChatterBot’s training process involves loading example dialog into the chat bot’s database."
   ]
  },
  {
   "cell_type": "code",
   "execution_count": 2,
   "metadata": {},
   "outputs": [
    {
     "name": "stderr",
     "output_type": "stream",
     "text": [
      "C:\\ProgramData\\Anaconda3\\lib\\site-packages\\chatterbot_corpus\\corpus.py:62: YAMLLoadWarning: calling yaml.load() without Loader=... is deprecated, as the default Loader is unsafe. Please read https://msg.pyyaml.org/load for full details.\n",
      "  data = yaml.load(data_file)\n"
     ]
    },
    {
     "name": "stdout",
     "output_type": "stream",
     "text": [
      "ai.yml Training: [####################] 100%\n",
      "botprofile.yml Training: [####################] 100%\n",
      "computers.yml Training: [####################] 100%\n",
      "conversations.yml Training: [####################] 100%\n",
      "emotion.yml Training: [####################] 100%\n",
      "food.yml Training: [####################] 100%\n",
      "gossip.yml Training: [####################] 100%\n",
      "greetings.yml Training: [####################] 100%\n",
      "history.yml Training: [####################] 100%\n",
      "humor.yml Training: [####################] 100%\n",
      "literature.yml Training: [####################] 100%\n",
      "money.yml Training: [####################] 100%\n",
      "movies.yml Training: [####################] 100%\n",
      "politics.yml Training: [####################] 100%\n",
      "psychology.yml Training: [####################] 100%\n",
      "science.yml Training: [####################] 100%\n",
      "sports.yml Training: [####################] 100%\n",
      "trivia.yml Training: [####################] 100%\n"
     ]
    }
   ],
   "source": [
    "from chatterbot import ChatBot\n",
    "from chatterbot.trainers import ChatterBotCorpusTrainer\n",
    "\n",
    "chatbot = ChatBot('Mohan')\n",
    "\n",
    "# Set the ChatterBotCorpusTrainer as trainer which allow to train the chatbot\n",
    "chatbot.set_trainer(ChatterBotCorpusTrainer)\n",
    "\n",
    "# Train the chatbot using data from the ChatterBot dialog corpus\n",
    "chatbot.train(\"chatterbot.corpus.english\")"
   ]
  },
  {
   "cell_type": "code",
   "execution_count": 3,
   "metadata": {},
   "outputs": [
    {
     "name": "stdout",
     "output_type": "stream",
     "text": [
      "Reply :Hi\n"
     ]
    }
   ],
   "source": [
    "text=\"hello\"\n",
    "# getting the response for the text\n",
    "reply=str(chatbot.get_response(text))\n",
    "print(\"Reply :\" + reply)"
   ]
  },
  {
   "cell_type": "markdown",
   "metadata": {},
   "source": [
    "### 3. Converting the reply into speech"
   ]
  },
  {
   "cell_type": "markdown",
   "metadata": {},
   "source": [
    "pyttsx3 is a text-to-speech conversion library in Python"
   ]
  },
  {
   "cell_type": "code",
   "execution_count": 4,
   "metadata": {},
   "outputs": [],
   "source": [
    "reply=\"Hi\"\n",
    "\n",
    "import pyttsx3\n",
    "\n",
    "# object creation\n",
    "engine = pyttsx3.init()\n",
    "\n",
    "# saying the text assign to the variable reply\n",
    "engine.say(reply)\n",
    "\n",
    "# waiting till the saying process is completed\n",
    "engine.runAndWait()"
   ]
  },
  {
   "cell_type": "markdown",
   "metadata": {},
   "source": [
    "# Full Code (Combining all the three)"
   ]
  },
  {
   "cell_type": "code",
   "execution_count": 5,
   "metadata": {},
   "outputs": [
    {
     "name": "stdout",
     "output_type": "stream",
     "text": [
      "ai.yml Training: [####################] 100%\n",
      "botprofile.yml Training: [####################] 100%\n",
      "computers.yml Training: [####################] 100%\n",
      "conversations.yml Training: [####################] 100%\n",
      "emotion.yml Training: [####################] 100%\n",
      "food.yml Training: [####################] 100%\n",
      "gossip.yml Training: [####################] 100%\n",
      "greetings.yml Training: [####################] 100%\n",
      "history.yml Training: [####################] 100%\n",
      "humor.yml Training: [####################] 100%\n",
      "literature.yml Training: [####################] 100%\n",
      "money.yml Training: [####################] 100%\n",
      "movies.yml Training: [####################] 100%\n",
      "politics.yml Training: [####################] 100%\n",
      "psychology.yml Training: [####################] 100%\n",
      "science.yml Training: [####################] 100%\n",
      "sports.yml Training: [####################] 100%\n",
      "trivia.yml Training: [####################] 100%\n"
     ]
    }
   ],
   "source": [
    "from chatterbot import ChatBot\n",
    "from chatterbot.trainers import ListTrainer\n",
    "from chatterbot.trainers import ChatterBotCorpusTrainer\n",
    "import speech_recognition as sr\n",
    "import pyttsx3\n",
    "\n",
    "# Making an object of Chatbot and Setting the name of chatbot Mohan\n",
    "chatbot = ChatBot('Mohan')\n",
    "\n",
    "# Set the ChatterBotCorpusTrainer as trainer which allow to train the chatbot\n",
    "chatbot.set_trainer(ChatterBotCorpusTrainer)\n",
    "\n",
    "# Train the chatbot using data from the ChatterBot dialog corpus\n",
    "chatbot.train(\"chatterbot.corpus.english\")"
   ]
  },
  {
   "cell_type": "code",
   "execution_count": 6,
   "metadata": {},
   "outputs": [
    {
     "name": "stdout",
     "output_type": "stream",
     "text": [
      "Speak:\n",
      "You said: hello\n",
      "Reply: Hi\n",
      "Speak:\n",
      "You said: hi\n",
      "Reply: How are you doing?\n",
      "Speak:\n",
      "You said: I am doing well\n",
      "Reply: That is good to hear\n",
      "Speak:\n",
      "You said: who are you\n",
      "Reply: I am just an artificial intelligence.\n",
      "Speak:\n",
      "You said: bye\n"
     ]
    }
   ],
   "source": [
    " while True:\n",
    "    #Initialize the recognizer\n",
    "    r = sr.Recognizer()\n",
    "    #use the microphone as source for input\n",
    "    with sr.Microphone() as source:                                                                       \n",
    "        print(\"Speak:\")\n",
    "        #listens for the user's input\n",
    "        audio = r.listen(source) \n",
    "\n",
    "\n",
    "    try:\n",
    "        #Recognize the user's input\n",
    "        text=r.recognize_google(audio)\n",
    "        print(\"You said:\",text)\n",
    "        if(text==\"bye\"):\n",
    "            reply=\"Thankyou for talking, Bye\"\n",
    "            break\n",
    "        # getting the response for the text\n",
    "        reply=str(chatbot.get_response(text))\n",
    "    #error occurs when google could not understand what was said\n",
    "    except:\n",
    "        reply =\"Could not understand the audio \"\n",
    "\n",
    "        \n",
    "    print(\"Reply:\",reply)\n",
    "    \n",
    "    # object creation\n",
    "    engine = pyttsx3.init()\n",
    "    # saying the text assign to the variable reply\n",
    "    engine.say(reply)\n",
    "    # waiting till the saying process is completed\n",
    "    engine.runAndWait()"
   ]
  },
  {
   "cell_type": "code",
   "execution_count": null,
   "metadata": {},
   "outputs": [],
   "source": []
  }
 ],
 "metadata": {
  "kernelspec": {
   "display_name": "Python 3",
   "language": "python",
   "name": "python3"
  },
  "language_info": {
   "codemirror_mode": {
    "name": "ipython",
    "version": 3
   },
   "file_extension": ".py",
   "mimetype": "text/x-python",
   "name": "python",
   "nbconvert_exporter": "python",
   "pygments_lexer": "ipython3",
   "version": "3.6.8"
  }
 },
 "nbformat": 4,
 "nbformat_minor": 2
}
